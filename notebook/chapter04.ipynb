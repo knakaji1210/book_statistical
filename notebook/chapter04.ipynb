{
 "cells": [
  {
   "cell_type": "code",
   "execution_count": null,
   "metadata": {},
   "outputs": [],
   "source": [
    "import numpy as np\n",
    "import pandas as pd\n",
    "import matplotlib.pyplot as plt\n",
    "\n",
    "%precision 3\n",
    "%matplotlib inline"
   ]
  },
  {
   "cell_type": "code",
   "execution_count": null,
   "metadata": {},
   "outputs": [],
   "source": [
    "df = pd.read_csv('./data/ch4_scores400.csv')\n",
    "scores = np.array(df['点数'])\n",
    "scores[:10]"
   ]
  },
  {
   "cell_type": "code",
   "execution_count": null,
   "metadata": {},
   "outputs": [],
   "source": [
    "np.random.choice([1, 2, 3], 3)"
   ]
  },
  {
   "cell_type": "code",
   "execution_count": null,
   "metadata": {},
   "outputs": [],
   "source": [
    "np.random.choice([1, 2, 3], 3, replace=False)"
   ]
  },
  {
   "cell_type": "code",
   "execution_count": null,
   "metadata": {},
   "outputs": [],
   "source": [
    "np.random.seed(0)\n",
    "np.random.choice([1, 2, 3], 3)"
   ]
  },
  {
   "cell_type": "code",
   "execution_count": null,
   "metadata": {},
   "outputs": [],
   "source": [
    "np.random.seed(0)\n",
    "sample = np.random.choice(scores, 20)\n",
    "sample.mean()"
   ]
  },
  {
   "cell_type": "code",
   "execution_count": null,
   "metadata": {},
   "outputs": [],
   "source": [
    "scores.mean()"
   ]
  },
  {
   "cell_type": "code",
   "execution_count": null,
   "metadata": {},
   "outputs": [],
   "source": [
    "for i in range(5):\n",
    "    sample = np.random.choice(scores, 20)\n",
    "    print(f'{i+1}番目の無作為抽出で得た標本平均', sample.mean())"
   ]
  },
  {
   "cell_type": "code",
   "execution_count": null,
   "metadata": {},
   "outputs": [],
   "source": [
    "dice = [1, 2, 3, 4, 5, 6]\n",
    "prob = [1/21, 2/21, 3/21, 4/21, 5/21, 6/21]"
   ]
  },
  {
   "cell_type": "code",
   "execution_count": null,
   "metadata": {},
   "outputs": [],
   "source": [
    "np.random.choice(dice, p=prob)"
   ]
  },
  {
   "cell_type": "code",
   "execution_count": null,
   "metadata": {},
   "outputs": [],
   "source": [
    "num_trial = 100\n",
    "sample = np.random.choice(dice, num_trial, p=prob)\n",
    "sample"
   ]
  },
  {
   "cell_type": "code",
   "execution_count": null,
   "metadata": {},
   "outputs": [],
   "source": [
    "freq, _ = np.histogram(sample, bins=6, range=(1, 7))\n",
    "pd.DataFrame({'度数': freq, '相対度数': freq / num_trial}, index = pd.Index(np.arange(1, 7), name='出目'))"
   ]
  },
  {
   "cell_type": "code",
   "execution_count": null,
   "metadata": {},
   "outputs": [],
   "source": [
    "fig = plt.figure(figsize=(10,6))\n",
    "ax = fig.add_subplot(111)\n",
    "ax.hist(sample, bins=6, range=(1, 7), density=True, rwidth=0.8)\n",
    "ax.hlines(prob, np.arange(1, 7), np.arange(2, 8), colors='gray')\n",
    "ax.set_xticks(np.linspace(1.5, 6.5, 6))\n",
    "ax.set_xticklabels(np.arange(1, 7))\n",
    "ax.set_xlabel('出目')\n",
    "ax.set_ylabel('相対度数')\n",
    "plt.show()"
   ]
  },
  {
   "cell_type": "code",
   "execution_count": null,
   "metadata": {},
   "outputs": [],
   "source": [
    "num_trial2 = 10000\n",
    "sample2 = np.random.choice(dice, num_trial2, p=prob)\n",
    "\n",
    "fig = plt.figure(figsize=(10,6))\n",
    "ax = fig.add_subplot(111)\n",
    "ax.hist(sample2, bins=6, range=(1, 7), density=True, rwidth=0.8)\n",
    "ax.hlines(prob, np.arange(1, 7), np.arange(2, 8), colors='gray')\n",
    "ax.set_xticks(np.linspace(1.5, 6.5, 6))\n",
    "ax.set_xticklabels(np.arange(1, 7))\n",
    "ax.set_xlabel('出目')\n",
    "ax.set_ylabel('相対度数')\n",
    "plt.show()"
   ]
  },
  {
   "cell_type": "code",
   "execution_count": null,
   "metadata": {},
   "outputs": [],
   "source": [
    "import matplotlib.animation as ani\n",
    "from IPython.display import HTML\n",
    "\n",
    "%precision 3\n",
    "%matplotlib inline\n",
    "\n",
    "num_frame = 50\n",
    "space = np.logspace(2, 5, num_frame).astype(int)\n",
    "sample3 = np.random.choice(dice, size=100000, p=prob)\n",
    "\n",
    "def animate(nframe):\n",
    "    num_trial = space[nframe]\n",
    "    ax.clear()\n",
    "    ax.hist(sample3[:num_trial], bins=6, range=(1, 7), density=True, rwidth=0.8)\n",
    "    ax.hlines(prob, np.arange(1, 7), np.arange(2, 8), colors='gray')\n",
    "    ax.set_title(f'試行回数:{num_trial}')\n",
    "    ax.set_xticks(np.linspace(1.5, 6.5, 6))\n",
    "    ax.set_xticklabels(np.arange(1, 7))\n",
    "    ax.set_ylim(0, 0.3)\n",
    "    ax.set_xlabel('出目', fontsize=12)\n",
    "    ax.set_ylabel('相対度数', fontsize=12)\n",
    "    \n",
    "fig = plt.figure(figsize=(10, 6))\n",
    "ax = fig.add_subplot(111)\n",
    "anim = ani.FuncAnimation(fig, animate, frames=num_frame)\n",
    "js_anim = HTML(anim.to_jshtml())\n",
    "plt.close()\n",
    "\n",
    "js_anim"
   ]
  },
  {
   "cell_type": "code",
   "execution_count": null,
   "metadata": {},
   "outputs": [],
   "source": [
    "scores"
   ]
  },
  {
   "cell_type": "code",
   "execution_count": null,
   "metadata": {},
   "outputs": [],
   "source": [
    "pd.Series(scores).describe()"
   ]
  },
  {
   "cell_type": "code",
   "execution_count": null,
   "metadata": {},
   "outputs": [],
   "source": [
    "fig = plt.figure(figsize = (10, 6))\n",
    "ax = fig.add_subplot(111)\n",
    "ax.hist(scores, bins=100, range=(0, 100), density=True)\n",
    "ax.set_xlim(20, 100)\n",
    "ax.set_ylim(0, 0.042)\n",
    "ax.set_xlabel('点数')\n",
    "ax.set_ylabel('相対度数 ')\n",
    "plt.show()"
   ]
  },
  {
   "cell_type": "code",
   "execution_count": null,
   "metadata": {},
   "outputs": [],
   "source": [
    "np.random.choice(scores)"
   ]
  },
  {
   "cell_type": "code",
   "execution_count": null,
   "metadata": {},
   "outputs": [],
   "source": [
    "sample = np.random.choice(scores, 10000)\n",
    "\n",
    "fig = plt.figure(figsize = (10, 6))\n",
    "ax = fig.add_subplot(111)\n",
    "ax.hist(sample, bins=100, range=(0, 100), density=True)\n",
    "ax.set_xlim(20, 100)\n",
    "ax.set_ylim(0, 0.042)\n",
    "ax.set_xlabel('点数')\n",
    "ax.set_ylabel('相対度数 ')\n",
    "plt.show()"
   ]
  },
  {
   "cell_type": "code",
   "execution_count": null,
   "metadata": {},
   "outputs": [],
   "source": [
    "sample_means = [np.random.choice(scores, 20).mean() for _ in range(10)]\n",
    "sample_means"
   ]
  },
  {
   "cell_type": "code",
   "execution_count": null,
   "metadata": {},
   "outputs": [],
   "source": [
    "sample_means = [np.random.choice(scores, 20).mean() for _ in range(10000)]\n",
    "\n",
    "fig = plt.figure(figsize=(10, 6))\n",
    "ax = fig.add_subplot(111)\n",
    "ax.hist(sample_means, bins=100, range=(0, 100), density=True)\n",
    "ax.vlines(np.mean(scores), 0, 1, 'gray')\n",
    "ax.set_xlim(50, 90)\n",
    "ax.set_ylim(0, 0.13)\n",
    "ax.set_xlabel('点数')\n",
    "ax.set_ylabel('相対度数 ')"
   ]
  }
 ],
 "metadata": {
  "kernelspec": {
   "display_name": "Python 3 (ipykernel)",
   "language": "python",
   "name": "python3"
  },
  "language_info": {
   "codemirror_mode": {
    "name": "ipython",
    "version": 3
   },
   "file_extension": ".py",
   "mimetype": "text/x-python",
   "name": "python",
   "nbconvert_exporter": "python",
   "pygments_lexer": "ipython3",
   "version": "3.11.2"
  }
 },
 "nbformat": 4,
 "nbformat_minor": 2
}
