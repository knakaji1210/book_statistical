{
 "cells": [
  {
   "cell_type": "code",
   "execution_count": null,
   "metadata": {},
   "outputs": [],
   "source": [
    "import numpy as np\n",
    "import matplotlib.pyplot as plt\n",
    "from scipy import stats, integrate\n",
    "from scipy.optimize import minimize_scalar\n",
    "\n",
    "%precision 3\n",
    "%matplotlib inline"
   ]
  },
  {
   "cell_type": "code",
   "execution_count": null,
   "metadata": {},
   "outputs": [],
   "source": [
    "linestyles = ['-', '--', ':']\n",
    "\n",
    "def E(X, g=lambda x: x):\n",
    "    x_range, f = X\n",
    "    def integrand(x):\n",
    "        return g(x) * f(x)\n",
    "    return integrate.quad(integrand, -np.inf, np.inf)[0]\n",
    "\n",
    "def V(X, g=lambda x: x):\n",
    "    x_range, f = X\n",
    "    mean = E(X, g)\n",
    "    def integrand(x):\n",
    "        return (g(x) - mean)**2 * f(x)\n",
    "    return integrate.quad(integrand, -np.inf, np.inf)[0]\n",
    "\n",
    "def check_prob(X):\n",
    "    x_range, f = X\n",
    "    f_min = minimize_scalar(f).fun\n",
    "    assert f_min >=0, '密度関数が負の値をとります'\n",
    "    prob_sum = np.round(integrate.quad(f, -np.inf, np.inf)[0], 6)\n",
    "    assert prob_sum == 1, f'確率の和が{prob_sum}になりました'\n",
    "    print(f'期待値は{E(X):.3f}')\n",
    "    print(f'分散は{V(X):.3f}')\n",
    "    \n",
    "def plot_prob(X, x_min, x_max):\n",
    "    x_range, f = X\n",
    "    def F(x):\n",
    "        return integrate.quad(f, -np.inf, x)[0]\n",
    "    \n",
    "    xs = np.linspace(x_min, x_max, 100)\n",
    "    \n",
    "    fig = plt.figure(figsize=(10,6))\n",
    "    ax = fig.add_subplot(111)\n",
    "    ax.plot(xs, [f(x) for x in xs], label='f(x)', color='gray')\n",
    "    ax.plot(xs, [F(x) for x in xs], label='F(x)', ls='--', color='gray')\n",
    "\n",
    "    ax.legend()\n",
    "    \n",
    "    plt.show()"
   ]
  },
  {
   "cell_type": "code",
   "execution_count": null,
   "metadata": {},
   "outputs": [],
   "source": [
    "def N(mu, sigma):\n",
    "    x_range = [-np.inf, np.inf]\n",
    "    def f(x):\n",
    "        return 1 / np.sqrt(2 * np.pi * sigma**2) * np.exp(-(x - mu)**2 / (2 * sigma**2))\n",
    "    return x_range, f"
   ]
  },
  {
   "cell_type": "code",
   "execution_count": null,
   "metadata": {},
   "outputs": [],
   "source": [
    "mu, sigma = 2, 0.5\n",
    "X = N(mu, sigma)"
   ]
  },
  {
   "cell_type": "code",
   "execution_count": null,
   "metadata": {},
   "outputs": [],
   "source": [
    "check_prob(X)"
   ]
  },
  {
   "cell_type": "code",
   "execution_count": null,
   "metadata": {},
   "outputs": [],
   "source": [
    "plot_prob(X, 0, 4)"
   ]
  },
  {
   "cell_type": "code",
   "execution_count": null,
   "metadata": {},
   "outputs": [],
   "source": [
    "rv = stats.norm(2, 0.5)"
   ]
  },
  {
   "cell_type": "code",
   "execution_count": null,
   "metadata": {},
   "outputs": [],
   "source": [
    "rv.mean(), rv.var()"
   ]
  },
  {
   "cell_type": "code",
   "execution_count": null,
   "metadata": {},
   "outputs": [],
   "source": [
    "rv.pdf(2)"
   ]
  },
  {
   "cell_type": "code",
   "execution_count": null,
   "metadata": {},
   "outputs": [],
   "source": [
    "rv.cdf(1.7)"
   ]
  },
  {
   "cell_type": "code",
   "execution_count": null,
   "metadata": {},
   "outputs": [],
   "source": [
    "rv.isf(0.3)"
   ]
  },
  {
   "cell_type": "code",
   "execution_count": null,
   "metadata": {},
   "outputs": [],
   "source": [
    "rv.interval(0.9)"
   ]
  },
  {
   "cell_type": "code",
   "execution_count": null,
   "metadata": {},
   "outputs": [],
   "source": [
    "rv.isf(0.95), rv.isf(0.05)"
   ]
  },
  {
   "cell_type": "code",
   "execution_count": null,
   "metadata": {},
   "outputs": [],
   "source": [
    "fig = plt.figure(figsize=(10, 6))\n",
    "ax = fig.add_subplot(111)\n",
    "\n",
    "xs = np.linspace(-5, 5, 100)\n",
    "params = [(0, 1), (0, 2), (1,1)]\n",
    "\n",
    "for param, ls in zip(params, linestyles):\n",
    "    mu, sigma = param\n",
    "    rv = stats.norm(mu, sigma)\n",
    "    ax.plot(xs, rv.pdf(xs), label=f'N{mu}, {sigma**2})', ls=ls, color='gray')\n",
    "\n",
    "ax.legend()\n",
    "\n",
    "plt.show()"
   ]
  },
  {
   "cell_type": "code",
   "execution_count": null,
   "metadata": {},
   "outputs": [],
   "source": [
    "def Ex(lam):\n",
    "    x_range = [0, np.inf]\n",
    "    def f(x):\n",
    "        if x >= 0:\n",
    "            return lam * np.exp(-lam * x)\n",
    "        else:\n",
    "            return 0\n",
    "    return x_range, f"
   ]
  },
  {
   "cell_type": "code",
   "execution_count": null,
   "metadata": {},
   "outputs": [],
   "source": [
    "lam = 3\n",
    "X = Ex(lam)"
   ]
  },
  {
   "cell_type": "code",
   "execution_count": null,
   "metadata": {},
   "outputs": [],
   "source": [
    "check_prob(X)"
   ]
  },
  {
   "cell_type": "code",
   "execution_count": null,
   "metadata": {},
   "outputs": [],
   "source": [
    "plot_prob(X, 0, 2)"
   ]
  },
  {
   "cell_type": "code",
   "execution_count": null,
   "metadata": {},
   "outputs": [],
   "source": [
    "fig = plt.figure(figsize=(10, 6))\n",
    "ax = fig.add_subplot(111)\n",
    "\n",
    "xs = np.linspace(0, 3, 100)\n",
    "params = [(0, 1), (0, 2), (1,1)]\n",
    "\n",
    "for lam, ls in zip([1, 2, 3], linestyles):\n",
    "    rv = stats.expon(scale = 1/lam)\n",
    "    ax.plot(xs, rv.pdf(xs), label=f'lambda:{lam}', ls=ls, color='gray')\n",
    "\n",
    "ax.legend()\n",
    "\n",
    "plt.show()"
   ]
  },
  {
   "cell_type": "code",
   "execution_count": null,
   "metadata": {},
   "outputs": [],
   "source": [
    "n = 10\n",
    "rv = stats.norm()\n",
    "sample_size = int(1e6)\n",
    "Zs_sample = rv.rvs((n, sample_size))\n",
    "chi2_sample = np.sum(Zs_sample**2, axis=0)\n",
    "#Zs_sample, chi2_sample"
   ]
  },
  {
   "cell_type": "code",
   "execution_count": null,
   "metadata": {},
   "outputs": [],
   "source": [
    "fig = plt.figure(figsize=(10,6))\n",
    "ax = fig.add_subplot(111)\n",
    "\n",
    "rv_true = stats.chi2(n)\n",
    "xs = np.linspace(0, 30, 100)\n",
    "ax.hist(chi2_sample, bins=100, density=True, alpha=0.5, label='chi2_sample')\n",
    "ax.plot(xs, rv_true.pdf(xs), label=f'chi2({n})', color='gray')\n",
    "\n",
    "ax.legend()\n",
    "ax.set_xlim(0, 30)\n",
    "plt.show()"
   ]
  },
  {
   "cell_type": "code",
   "execution_count": null,
   "metadata": {},
   "outputs": [],
   "source": [
    "fig = plt.figure(figsize=(10,6))\n",
    "ax = fig.add_subplot(111)\n",
    "\n",
    "xs = np.linspace(0, 20, 500)\n",
    "for n, ls in zip([3, 5, 10], linestyles):\n",
    "    rv = stats.chi2(n)\n",
    "    ax.plot(xs, rv.pdf(xs),  label=f'chi2({n})', ls=ls, color='gray')\n",
    "\n",
    "ax.legend()\n",
    "plt.show()"
   ]
  },
  {
   "cell_type": "code",
   "execution_count": null,
   "metadata": {},
   "outputs": [],
   "source": [
    "rv = stats.chi2(5)\n",
    "rv.isf(0.05)"
   ]
  },
  {
   "cell_type": "code",
   "execution_count": null,
   "metadata": {},
   "outputs": [],
   "source": [
    "n = 10\n",
    "rv1 = stats.norm()\n",
    "rv2 = stats.chi2(n)\n",
    "\n",
    "sample_size = int(1e6)\n",
    "Z_sample = rv1.rvs(sample_size)\n",
    "chi2_sample = rv2.rvs(sample_size)\n",
    "\n",
    "t_sample = Z_sample / np.sqrt(chi2_sample / n)"
   ]
  },
  {
   "cell_type": "code",
   "execution_count": null,
   "metadata": {},
   "outputs": [],
   "source": [
    "fig = plt.figure(figsize=(10,6))\n",
    "ax = fig.add_subplot(111)\n",
    "\n",
    "rv = stats.t(n)\n",
    "xs = np.linspace(-3, 3, 100)\n",
    "ax.hist(t_sample, bins=100, range=(-3,3), density=True, alpha=0.5, label='t_sample')\n",
    "ax.plot(xs, rv.pdf(xs), label=f't({n})', color='gray')\n",
    "\n",
    "ax.legend()\n",
    "ax.set_xlim(-3, 3)\n",
    "plt.show()"
   ]
  },
  {
   "cell_type": "code",
   "execution_count": null,
   "metadata": {},
   "outputs": [],
   "source": [
    "fig = plt.figure(figsize=(10,6))\n",
    "ax = fig.add_subplot(111)\n",
    "\n",
    "xs = np.linspace(-3, 3, 100)\n",
    "for n, ls in zip([3, 5, 10], linestyles):\n",
    "    rv = stats.t(n)\n",
    "    ax.plot(xs, rv.pdf(xs),  label=f't({n})', ls=ls, color='gray')\n",
    "rv = stats.norm()\n",
    "ax.plot(xs, rv.pdf(xs), label='N(0, 1)')\n",
    "\n",
    "ax.legend()\n",
    "plt.show()"
   ]
  },
  {
   "cell_type": "code",
   "execution_count": null,
   "metadata": {},
   "outputs": [],
   "source": [
    "rv = stats.t(5)\n",
    "rv.isf(0.05)"
   ]
  },
  {
   "cell_type": "code",
   "execution_count": null,
   "metadata": {},
   "outputs": [],
   "source": [
    "n1 = 5\n",
    "n2 = 10\n",
    "rv1 = stats.chi2(n1)\n",
    "rv2 = stats.chi2(n2)\n",
    "\n",
    "sample_size = int(1e6)\n",
    "sample1 = rv1.rvs(sample_size)\n",
    "sample2 = rv2.rvs(sample_size)\n",
    "\n",
    "f_sample = (sample1 / n1) / (sample2 / n2)"
   ]
  },
  {
   "cell_type": "code",
   "execution_count": null,
   "metadata": {},
   "outputs": [],
   "source": [
    "fig = plt.figure(figsize=(10,6))\n",
    "ax = fig.add_subplot(111)\n",
    "\n",
    "rv = stats.f(n1, n2)\n",
    "xs = np.linspace(0, 6, 200)[1:]\n",
    "ax.hist(f_sample, bins=100, range=(0,6), density=True, alpha=0.5, label='f_sample')\n",
    "ax.plot(xs, rv.pdf(xs), label=f'F({n1}, {n2})', color='gray')\n",
    "\n",
    "ax.legend()\n",
    "ax.set_xlim(0, 6)\n",
    "plt.show()"
   ]
  },
  {
   "cell_type": "code",
   "execution_count": null,
   "metadata": {},
   "outputs": [],
   "source": [
    "fig = plt.figure(figsize=(10,6))\n",
    "ax = fig.add_subplot(111)\n",
    "\n",
    "xs = np.linspace(0, 6, 200)[1:]\n",
    "for n1, ls in zip([3, 5, 10], linestyles):\n",
    "    rv = stats.f(n1, 10)\n",
    "    ax.plot(xs, rv.pdf(xs),  label=f'F({n1}, 10)', ls=ls, color='gray')\n",
    "\n",
    "ax.legend()\n",
    "plt.show()"
   ]
  }
 ],
 "metadata": {
  "kernelspec": {
   "display_name": "Python 3 (ipykernel)",
   "language": "python",
   "name": "python3"
  },
  "language_info": {
   "codemirror_mode": {
    "name": "ipython",
    "version": 3
   },
   "file_extension": ".py",
   "mimetype": "text/x-python",
   "name": "python",
   "nbconvert_exporter": "python",
   "pygments_lexer": "ipython3",
   "version": "3.11.2"
  }
 },
 "nbformat": 4,
 "nbformat_minor": 2
}
