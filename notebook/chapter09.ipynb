{
 "cells": [
  {
   "cell_type": "code",
   "execution_count": null,
   "metadata": {},
   "outputs": [],
   "source": [
    "import numpy as np\n",
    "import matplotlib.pyplot as plt\n",
    "from scipy import stats\n",
    "\n",
    "np.random.seed(0)\n",
    "%precision 3\n",
    "%matplotlib inline"
   ]
  },
  {
   "cell_type": "code",
   "execution_count": null,
   "metadata": {},
   "outputs": [],
   "source": [
    "linestyles = ['-', '--', ':', '-.']\n",
    "\n",
    "def E(XY, g):\n",
    "    x_set, y_set, f_XY = XY\n",
    "    return np.sum([g(x_i, y_j) * f_XY(x_i, y_j) for x_i in x_set for y_j in y_set])\n",
    "\n",
    "def Cov(XY):\n",
    "    x_set, y_set, f_XY = XY\n",
    "    mean_X = E(XY, lambda x ,y: x)\n",
    "    mean_Y = E(XY, lambda x ,y: y)\n",
    "    return np.sum([(x_i - mean_X) * (y_j - mean_Y) * f_XY(x_i, y_j) for x_i in x_set for y_j in y_set])\n",
    "\n",
    "def f_X(x):\n",
    "    return np.sum([f_XY(x, y_k) for y_k in y_set])\n",
    "\n",
    "def f_Y(y):\n",
    "    return np.sum([f_XY(x_k, y) for x_k in x_set])"
   ]
  },
  {
   "cell_type": "code",
   "execution_count": null,
   "metadata": {},
   "outputs": [],
   "source": [
    "x_set = np.array([1, 2, 3, 4, 5, 6])\n",
    "y_set = np.array([1, 2, 3, 4, 5, 6])\n",
    "\n",
    "def f_XY(x, y):\n",
    "    if x in x_set and y in y_set:\n",
    "        return x * y / 441\n",
    "    else:\n",
    "        return 0\n",
    "\n",
    "XY = [x_set, y_set, f_XY]"
   ]
  },
  {
   "cell_type": "code",
   "execution_count": null,
   "metadata": {},
   "outputs": [],
   "source": [
    "Cov(XY)"
   ]
  },
  {
   "cell_type": "code",
   "execution_count": null,
   "metadata": {},
   "outputs": [],
   "source": [
    "x_set = np.array([0, 1])\n",
    "y_set = np.array([-1, 0, 1])\n",
    "\n",
    "def f_XY(x, y):\n",
    "    if (x, y) in [(0, 0), (1, 1), (1, -1)]:\n",
    "        return 1 / 3\n",
    "    else:\n",
    "        return 0\n",
    "\n",
    "XY = [x_set, y_set, f_XY]"
   ]
  },
  {
   "cell_type": "code",
   "execution_count": null,
   "metadata": {},
   "outputs": [],
   "source": [
    "Cov(XY)"
   ]
  },
  {
   "cell_type": "code",
   "execution_count": null,
   "metadata": {},
   "outputs": [],
   "source": [
    "f_X(0) * f_Y(0), f_XY(0, 0)"
   ]
  },
  {
   "cell_type": "code",
   "execution_count": null,
   "metadata": {},
   "outputs": [],
   "source": [
    "rv1 = stats.norm(1, np.sqrt(2))\n",
    "rv2 = stats.norm(2, np.sqrt(3))\n",
    "\n",
    "sample_size = int(1e6)\n",
    "X_sample = rv1.rvs(sample_size)\n",
    "Y_sample = rv2.rvs(sample_size)\n",
    "sum_sample = X_sample + Y_sample\n",
    "\n",
    "np.mean(sum_sample), np.var(sum_sample)"
   ]
  },
  {
   "cell_type": "code",
   "execution_count": null,
   "metadata": {},
   "outputs": [],
   "source": [
    "fig = plt.figure(figsize=(10,6))\n",
    "ax = fig.add_subplot(111)\n",
    "\n",
    "rv = stats.norm(3, np.sqrt(5))\n",
    "xs = np.linspace(rv.isf(0.995), rv.isf(0.005), 100)\n",
    "\n",
    "ax.hist(sum_sample, bins=100, density=True, alpha=0.5, label='N(1, 2) + N(2, 3)')\n",
    "ax.plot(xs, rv.pdf(xs), label='N(3, 5)', color='gray')\n",
    "ax.plot(xs, rv1.pdf(xs), label='N(1, 2)', ls='--', color='gray')\n",
    "ax.plot(xs, rv2.pdf(xs), label='N(2, 3)', ls=':', color='gray')\n",
    "\n",
    "ax.legend()\n",
    "ax.set_xlim(rv.isf(0.995), rv.isf(0.005))\n",
    "plt.show()"
   ]
  },
  {
   "cell_type": "code",
   "execution_count": null,
   "metadata": {},
   "outputs": [],
   "source": [
    "rv1 = stats.poisson(3)\n",
    "rv2 = stats.poisson(4)\n",
    "\n",
    "sample_size = int(1e6)\n",
    "X_sample = rv1.rvs(sample_size)\n",
    "Y_sample = rv2.rvs(sample_size)\n",
    "sum_sample = X_sample + Y_sample\n",
    "\n",
    "np.mean(sum_sample), np.var(sum_sample)"
   ]
  },
  {
   "cell_type": "code",
   "execution_count": null,
   "metadata": {},
   "outputs": [],
   "source": [
    "fig = plt.figure(figsize=(10,6))\n",
    "ax = fig.add_subplot(111)\n",
    "\n",
    "rv = stats.poisson(7)\n",
    "xs = np.arange(20)\n",
    "\n",
    "#hist, _ = np.histogram(sum_sample, bins=20, range=(0,20), normed=True)\n",
    "hist, _ = np.histogram(sum_sample, bins=20, range=(0,20), density=True)\n",
    "\n",
    "ax.bar(xs, hist, alpha=0.5, label='Poi(3) + Poi(4)')\n",
    "ax.plot(xs, rv.pmf(xs), label='Poi(7)', color='gray')\n",
    "ax.plot(xs, rv1.pmf(xs), label='Poi(3)', ls='--', color='gray')\n",
    "ax.plot(xs, rv2.pmf(xs), label='Poi(4)', ls=':', color='gray')\n",
    "\n",
    "ax.legend()\n",
    "ax.set_xlim(-0.5, 20)\n",
    "ax.set_xticks(np.arange(20))\n",
    "plt.show()"
   ]
  },
  {
   "cell_type": "code",
   "execution_count": null,
   "metadata": {},
   "outputs": [],
   "source": [
    "p = 0.3\n",
    "rv = stats.bernoulli(p)\n",
    "\n",
    "sample_size = int(1e6)\n",
    "Xs_sample = rv.rvs((10, sample_size))\n",
    "sum_sample = np.sum(Xs_sample, axis=0)\n",
    "\n",
    "np.mean(sum_sample), np.var(sum_sample)"
   ]
  },
  {
   "cell_type": "code",
   "execution_count": null,
   "metadata": {},
   "outputs": [],
   "source": [
    "fig = plt.figure(figsize=(10, 6))\n",
    "ax = fig.add_subplot(111)\n",
    "\n",
    "rv = stats.binom(10, p)\n",
    "xs = np.arange(10)\n",
    "hist, _ = np.histogram(sum_sample, bins=10, range=(0,10), density=True)\n",
    "ax.bar(xs, hist, alpha=0.5, label='10個のBern(0.3)の和')\n",
    "ax.plot(xs, rv.pmf(xs), label='Bin(10, 0.3)')\n",
    "\n",
    "ax.legend()\n",
    "ax.set_xlim(-0.5, 10)\n",
    "ax.set_xticks(np.arange(10))\n",
    "plt.show()"
   ]
  },
  {
   "cell_type": "code",
   "execution_count": null,
   "metadata": {},
   "outputs": [],
   "source": [
    "mean = 1\n",
    "var = 2\n",
    "rv = stats.norm(mean, np.sqrt(var))\n",
    "\n",
    "n = 10\n",
    "sample_size = int(1e6)\n",
    "Xs_sample = rv.rvs((n, sample_size))\n",
    "sample_mean = np.mean(Xs_sample, axis=0)\n",
    "\n",
    "#sample_mean\n",
    "np.mean(sample_mean), np.var(sample_mean)"
   ]
  },
  {
   "cell_type": "code",
   "execution_count": null,
   "metadata": {},
   "outputs": [],
   "source": [
    "fig = plt.figure(figsize=(10, 6))\n",
    "ax = fig.add_subplot(111)\n",
    "\n",
    "rv_true = stats.norm(mean, np.sqrt(var/n))\n",
    "xs = np.linspace(rv_true.isf(0.999), rv_true.isf(0.001), 100)\n",
    "ax.hist(sample_mean, bins=100, density=True, alpha=0.5, label='10個のN(1, 2)の標本平均')\n",
    "ax.plot(xs, rv_true.pdf(xs), label='N(1, 0.2)', color='gray')\n",
    "\n",
    "ax.legend()\n",
    "ax.set_xlim(rv_true.isf(0.999), rv_true.isf(0.001))\n",
    "plt.show()"
   ]
  },
  {
   "cell_type": "code",
   "execution_count": null,
   "metadata": {},
   "outputs": [],
   "source": [
    "l = 3\n",
    "rv = stats.poisson(l)\n",
    "\n",
    "n = 10\n",
    "sample_size = int(1e6)\n",
    "Xs_sample = rv.rvs((n, sample_size))\n",
    "sample_mean = np.mean(Xs_sample, axis=0)\n",
    "\n",
    "#sample_mean\n",
    "np.mean(sample_mean), np.var(sample_mean)"
   ]
  },
  {
   "cell_type": "code",
   "execution_count": null,
   "metadata": {},
   "outputs": [],
   "source": [
    "fig = plt.figure(figsize=(10, 6))\n",
    "ax = fig.add_subplot(111)\n",
    "\n",
    "ax.hist(sample_mean, bins=100, density=True, alpha=0.5, label='10個のPoi(3)の標本平均')\n",
    "\n",
    "ax.legend()\n",
    "ax.set_xlim(0, 6)\n",
    "plt.show()"
   ]
  },
  {
   "cell_type": "code",
   "execution_count": null,
   "metadata": {},
   "outputs": [],
   "source": [
    "l = 3\n",
    "rv = stats.poisson(l)\n",
    "\n",
    "n = 10000\n",
    "sample_size = 10000\n",
    "Xs_sample = rv.rvs((n, sample_size))\n",
    "sample_mean = np.mean(Xs_sample, axis=0)\n",
    "\n",
    "rv_true = stats.norm(l, np.sqrt(l/n))\n",
    "xs = np.linspace(rv_true.isf(0.999), rv_true.isf(0.001), 100)"
   ]
  },
  {
   "cell_type": "code",
   "execution_count": null,
   "metadata": {},
   "outputs": [],
   "source": [
    "fig = plt.figure(figsize=(10, 6))\n",
    "ax = fig.add_subplot(111)\n",
    "\n",
    "ax.hist(sample_mean, bins=100, density=True, alpha=0.5, label='10000個のPoi(3)の標本平均')\n",
    "ax.plot(xs, rv_true.pdf(xs), label='N(3, 3/10000)', color='gray')\n",
    "\n",
    "ax.legend()\n",
    "ax.set_xlim(rv_true.isf(0.999), rv_true.isf(0.001))\n",
    "plt.show()"
   ]
  },
  {
   "cell_type": "code",
   "execution_count": null,
   "metadata": {},
   "outputs": [],
   "source": [
    "p = 0.3\n",
    "rv = stats.bernoulli(p)\n",
    "\n",
    "n = 10000\n",
    "sample_size = 10000\n",
    "Xs_sample = rv.rvs((n, sample_size))\n",
    "sample_mean = np.mean(Xs_sample, axis=0)\n",
    "\n",
    "rv_true = stats.norm(p, np.sqrt(p * (1 - p) / n))\n",
    "xs = np.linspace(rv_true.isf(0.999), rv_true.isf(0.001), 100)"
   ]
  },
  {
   "cell_type": "code",
   "execution_count": null,
   "metadata": {},
   "outputs": [],
   "source": [
    "fig = plt.figure(figsize=(10, 6))\n",
    "ax = fig.add_subplot(111)\n",
    "\n",
    "ax.hist(sample_mean, bins=100, density=True, alpha=0.5, label='10000個のBern(0.3)の標本平均')\n",
    "ax.plot(xs, rv_true.pdf(xs), label='N(0.3, 0.21/10000)', color='gray')\n",
    "\n",
    "ax.legend()\n",
    "ax.set_xlim(rv_true.isf(0.999), rv_true.isf(0.001))\n",
    "plt.show()"
   ]
  },
  {
   "cell_type": "code",
   "execution_count": null,
   "metadata": {},
   "outputs": [],
   "source": [
    "p = 1/6\n",
    "rv = stats.bernoulli(p)\n",
    "\n",
    "n = int(1e5)\n",
    "sample = rv.rvs((n, 4))\n",
    "space = np.linspace(100, n, 50).astype(int)\n",
    "plot_list = np.array([np.mean(sample[:sp], axis=0) for sp in space]).T"
   ]
  },
  {
   "cell_type": "code",
   "execution_count": null,
   "metadata": {},
   "outputs": [],
   "source": [
    "fig = plt.figure(figsize=(10, 6))\n",
    "ax = fig.add_subplot(111)\n",
    "\n",
    "for pl, ls in zip(plot_list, linestyles):\n",
    "    ax.plot(space, pl, ls=ls, color='gray')\n",
    "ax.hlines(p, -1, n, 'k')\n",
    "ax.set_xlabel('サンプルサイズ')\n",
    "ax.set_ylabel('標本平均')\n",
    "\n",
    "plt.show()"
   ]
  },
  {
   "cell_type": "code",
   "execution_count": null,
   "metadata": {},
   "outputs": [],
   "source": []
  }
 ],
 "metadata": {
  "kernelspec": {
   "display_name": "Python 3 (ipykernel)",
   "language": "python",
   "name": "python3"
  },
  "language_info": {
   "codemirror_mode": {
    "name": "ipython",
    "version": 3
   },
   "file_extension": ".py",
   "mimetype": "text/x-python",
   "name": "python",
   "nbconvert_exporter": "python",
   "pygments_lexer": "ipython3",
   "version": "3.11.2"
  }
 },
 "nbformat": 4,
 "nbformat_minor": 2
}
