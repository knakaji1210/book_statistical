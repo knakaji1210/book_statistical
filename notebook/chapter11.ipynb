{
 "cells": [
  {
   "cell_type": "code",
   "execution_count": null,
   "metadata": {},
   "outputs": [],
   "source": [
    "import numpy as np\n",
    "import pandas as pd\n",
    "from scipy import stats\n",
    "\n",
    "%precision 3\n",
    "np.random.seed(1111)"
   ]
  },
  {
   "cell_type": "code",
   "execution_count": null,
   "metadata": {},
   "outputs": [],
   "source": [
    "df = pd.read_csv('./data/ch11_potato.csv')\n",
    "sample = np.array(df['重さ'])\n",
    "sample"
   ]
  },
  {
   "cell_type": "code",
   "execution_count": null,
   "metadata": {},
   "outputs": [],
   "source": [
    "s_mean = np.mean(sample)\n",
    "s_mean"
   ]
  },
  {
   "cell_type": "code",
   "execution_count": null,
   "metadata": {},
   "outputs": [],
   "source": [
    "rv = stats.norm(130, np.sqrt(9/14))\n",
    "rv.isf(0.95)"
   ]
  },
  {
   "cell_type": "code",
   "execution_count": null,
   "metadata": {},
   "outputs": [],
   "source": [
    "rv = stats.norm(129, np.sqrt(9/14))\n",
    "rv.isf(0.95)"
   ]
  },
  {
   "cell_type": "code",
   "execution_count": null,
   "metadata": {},
   "outputs": [],
   "source": [
    "z = (s_mean -130) / np.sqrt(9/14)\n",
    "z"
   ]
  },
  {
   "cell_type": "code",
   "execution_count": null,
   "metadata": {},
   "outputs": [],
   "source": [
    "rv = stats.norm()\n",
    "rv.isf(0.95)"
   ]
  },
  {
   "cell_type": "code",
   "execution_count": null,
   "metadata": {},
   "outputs": [],
   "source": [
    "rv.cdf(z)"
   ]
  },
  {
   "cell_type": "code",
   "execution_count": null,
   "metadata": {},
   "outputs": [],
   "source": [
    "rv.interval(0.95)"
   ]
  },
  {
   "cell_type": "code",
   "execution_count": null,
   "metadata": {},
   "outputs": [],
   "source": [
    "rv.cdf(z) * 2"
   ]
  },
  {
   "cell_type": "code",
   "execution_count": null,
   "metadata": {},
   "outputs": [],
   "source": [
    "rv = stats.norm(130, np.sqrt(9))"
   ]
  },
  {
   "cell_type": "code",
   "execution_count": null,
   "metadata": {},
   "outputs": [],
   "source": [
    "c = stats.norm.isf(0.95)\n",
    "n_samples = 10000\n",
    "cnt = 0\n",
    "\n",
    "for _ in range(n_samples):\n",
    "    sample_ = np.round(rv.rvs(14), 2)\n",
    "    s_mean_ = np.mean(sample_)\n",
    "    z = (s_mean_ - 130) / np.sqrt(9/14)\n",
    "    if z < c:\n",
    "        cnt += 1\n",
    "\n",
    "cnt / n_samples"
   ]
  },
  {
   "cell_type": "code",
   "execution_count": null,
   "metadata": {},
   "outputs": [],
   "source": [
    "rv = stats.norm(128, np.sqrt(9))"
   ]
  },
  {
   "cell_type": "code",
   "execution_count": null,
   "metadata": {},
   "outputs": [],
   "source": [
    "c = stats.norm.isf(0.95)\n",
    "n_samples = 10000\n",
    "cnt = 0\n",
    "\n",
    "for _ in range(n_samples):\n",
    "    sample_ = np.round(rv.rvs(14), 2)\n",
    "    s_mean_ = np.mean(sample_)\n",
    "    z = (s_mean_ - 130) / np.sqrt(9/14)\n",
    "    if z >= c:\n",
    "        cnt += 1\n",
    "\n",
    "cnt / n_samples"
   ]
  },
  {
   "cell_type": "code",
   "execution_count": null,
   "metadata": {},
   "outputs": [],
   "source": [
    "def pmean_test(sample, mean0, p_var, alpha=0.05):\n",
    "    s_mean = np.mean(sample)\n",
    "    n = len(sample)\n",
    "    rv = stats.norm()\n",
    "    interval = rv.interval(1-alpha)\n",
    "    \n",
    "    z = (s_mean - mean0) / np.sqrt(p_var / n)\n",
    "    if interval[0] <= z <= interval[1]:\n",
    "        print('帰無仮説を採択')\n",
    "    else:\n",
    "        print('帰無仮説を棄却')\n",
    "    if z < 0:\n",
    "        p = rv.cdf(z) * 2\n",
    "    else:\n",
    "        p = (1 - rv.cdf(z)) * 2\n",
    "    print(f'p値は{p: 3f}')"
   ]
  },
  {
   "cell_type": "code",
   "execution_count": null,
   "metadata": {},
   "outputs": [],
   "source": [
    "pmean_test(sample, 130, 9)"
   ]
  },
  {
   "cell_type": "code",
   "execution_count": null,
   "metadata": {},
   "outputs": [],
   "source": [
    "def pvar_test(sample, var0, alpha=0.05):\n",
    "    u_var = np.var(sample, ddof=1)\n",
    "    n = len(sample)\n",
    "    rv = stats.chi2(df=n-1)\n",
    "    interval = rv.interval(1-alpha)\n",
    "    \n",
    "    y = (n - 1) * u_var / var0\n",
    "    if interval[0] <= y <= interval[1]:\n",
    "        print('帰無仮説を採択')\n",
    "    else:\n",
    "        print('帰無仮説を棄却')\n",
    "    if y < rv.isf(0.5):\n",
    "        p = rv.cdf(y) * 2\n",
    "    else:\n",
    "        p = (1 - rv.cdf(y)) * 2\n",
    "    print(f'p値は{p: 3f}')"
   ]
  },
  {
   "cell_type": "code",
   "execution_count": null,
   "metadata": {},
   "outputs": [],
   "source": [
    "pvar_test(sample, 9)"
   ]
  },
  {
   "cell_type": "code",
   "execution_count": null,
   "metadata": {},
   "outputs": [],
   "source": [
    "def pmean_test2(sample, mean0, alpha=0.05):\n",
    "    s_mean = np.mean(sample)\n",
    "    u_var = np.var(sample, ddof=1)\n",
    "    n = len(sample)\n",
    "    rv = stats.t(df=n-1)\n",
    "    interval = rv.interval(1-alpha)\n",
    "    \n",
    "    t = (s_mean - mean0) / np.sqrt(u_var / n)\n",
    "    if interval[0] <= t <= interval[1]:\n",
    "        print('帰無仮説を採択')\n",
    "    else:\n",
    "        print('帰無仮説を棄却')\n",
    "    if t < 0:\n",
    "        p = rv.cdf(t) * 2\n",
    "    else:\n",
    "        p = (1 - rv.cdf(t)) * 2\n",
    "    print(f'p値は{p: 3f}')"
   ]
  },
  {
   "cell_type": "code",
   "execution_count": null,
   "metadata": {},
   "outputs": [],
   "source": [
    "pmean_test2(sample, 130)"
   ]
  },
  {
   "cell_type": "code",
   "execution_count": null,
   "metadata": {},
   "outputs": [],
   "source": [
    "t, p = stats.ttest_1samp(sample, 130)\n",
    "t, p"
   ]
  },
  {
   "cell_type": "code",
   "execution_count": null,
   "metadata": {},
   "outputs": [],
   "source": [
    "training_rel = pd.read_csv('./data/ch11_training_rel.csv')\n",
    "print(training_rel.shape)\n",
    "training_rel.head()"
   ]
  },
  {
   "cell_type": "code",
   "execution_count": null,
   "metadata": {},
   "outputs": [],
   "source": [
    "training_rel['差'] = training_rel['後'] - training_rel['前']\n",
    "training_rel.head()"
   ]
  },
  {
   "cell_type": "code",
   "execution_count": null,
   "metadata": {},
   "outputs": [],
   "source": [
    "t, p = stats.ttest_1samp(training_rel['差'], 0)\n",
    "p"
   ]
  },
  {
   "cell_type": "code",
   "execution_count": null,
   "metadata": {},
   "outputs": [],
   "source": [
    "t, p = stats.ttest_rel(training_rel['後'], training_rel['前'])\n",
    "p"
   ]
  },
  {
   "cell_type": "code",
   "execution_count": null,
   "metadata": {},
   "outputs": [],
   "source": [
    "training_ind = pd.read_csv('./data/ch11_training_ind.csv')\n",
    "print(training_ind.shape)\n",
    "training_ind.head()"
   ]
  },
  {
   "cell_type": "code",
   "execution_count": null,
   "metadata": {},
   "outputs": [],
   "source": [
    "t, p = stats.ttest_ind(training_ind['A'], training_ind['B'], equal_var=False)\n",
    "p"
   ]
  },
  {
   "cell_type": "code",
   "execution_count": null,
   "metadata": {},
   "outputs": [],
   "source": [
    "training_rel = pd.read_csv('./data/ch11_training_rel.csv')\n",
    "toy_df = training_rel[:6].copy()\n",
    "toy_df"
   ]
  },
  {
   "cell_type": "code",
   "execution_count": null,
   "metadata": {},
   "outputs": [],
   "source": [
    "diff = toy_df['後'] - toy_df['前']\n",
    "toy_df['差'] = diff\n",
    "toy_df"
   ]
  },
  {
   "cell_type": "code",
   "execution_count": null,
   "metadata": {},
   "outputs": [],
   "source": [
    "rank = stats.rankdata(abs(diff)).astype(int)\n",
    "toy_df['順位'] = rank\n",
    "toy_df"
   ]
  },
  {
   "cell_type": "code",
   "execution_count": null,
   "metadata": {},
   "outputs": [],
   "source": [
    "diff < 0"
   ]
  },
  {
   "cell_type": "code",
   "execution_count": null,
   "metadata": {},
   "outputs": [],
   "source": [
    "r_minus = np.sum((diff < 0) * rank)\n",
    "r_plus = np.sum((diff > 0) * rank)\n",
    "\n",
    "r_minus, r_plus"
   ]
  },
  {
   "cell_type": "code",
   "execution_count": null,
   "metadata": {},
   "outputs": [],
   "source": [
    "toy2_df = training_rel[:6].copy()\n",
    "toy2_df['後'] = toy2_df['前'] + np.arange(1, 7)\n",
    "diff2 = toy2_df['後'] - toy2_df['前']\n",
    "rank2 = stats.rankdata(abs(diff2)).astype(int)\n",
    "toy2_df['差'] = diff2\n",
    "toy2_df['順位'] = rank2\n",
    "toy2_df"
   ]
  },
  {
   "cell_type": "code",
   "execution_count": null,
   "metadata": {},
   "outputs": [],
   "source": [
    "r_minus2 = np.sum((diff2 < 0) * rank2)\n",
    "r_plus2 = np.sum((diff2 > 0) * rank2)\n",
    "\n",
    "r_minus2, r_plus2"
   ]
  },
  {
   "cell_type": "code",
   "execution_count": null,
   "metadata": {},
   "outputs": [],
   "source": [
    "toy3_df = training_rel[:6].copy()\n",
    "toy3_df['後'] = toy3_df['前'] + [1, -2, -3, 4, 5, -6]\n",
    "diff3 = toy3_df['後'] - toy3_df['前']\n",
    "rank3 = stats.rankdata(abs(diff3)).astype(int)\n",
    "toy3_df['差'] = diff3\n",
    "toy3_df['順位'] = rank3\n",
    "toy3_df"
   ]
  },
  {
   "cell_type": "code",
   "execution_count": null,
   "metadata": {},
   "outputs": [],
   "source": [
    "r_minus3 = np.sum((diff3 < 0) * rank3)\n",
    "r_plus3 = np.sum((diff3 > 0) * rank3)\n",
    "\n",
    "r_minus3, r_plus3"
   ]
  },
  {
   "cell_type": "code",
   "execution_count": null,
   "metadata": {},
   "outputs": [],
   "source": [
    "T, p = stats.wilcoxon(training_rel['前'], training_rel['後'])\n",
    "p                    "
   ]
  },
  {
   "cell_type": "code",
   "execution_count": null,
   "metadata": {},
   "outputs": [],
   "source": [
    "T, p = stats.wilcoxon(training_rel['後'] - training_rel['前'])\n",
    "p    "
   ]
  },
  {
   "cell_type": "code",
   "execution_count": null,
   "metadata": {},
   "outputs": [],
   "source": [
    "n = 10000\n",
    "diffs = np.round(stats.norm(3, 4).rvs(size=(n, 20)))"
   ]
  },
  {
   "cell_type": "code",
   "execution_count": null,
   "metadata": {},
   "outputs": [],
   "source": [
    "cnt = 0\n",
    "alpha = 0.05\n",
    "for diff in diffs:\n",
    "    t, p = stats.ttest_1samp(diff, 0)\n",
    "    if p < alpha:\n",
    "        cnt += 1\n",
    "cnt / n"
   ]
  },
  {
   "cell_type": "code",
   "execution_count": null,
   "metadata": {},
   "outputs": [],
   "source": [
    "cnt = 0\n",
    "alpha = 0.05\n",
    "for diff in diffs:\n",
    "    T, p = stats.wilcoxon(diff)\n",
    "    if p < alpha:\n",
    "        cnt += 1\n",
    "cnt / n"
   ]
  },
  {
   "cell_type": "code",
   "execution_count": null,
   "metadata": {},
   "outputs": [],
   "source": [
    "ad_df = pd.read_csv('./data/ch11_ad.csv')\n",
    "n = len(ad_df)\n",
    "print(n)\n",
    "ad_df.head()"
   ]
  },
  {
   "cell_type": "code",
   "execution_count": null,
   "metadata": {},
   "outputs": [],
   "source": [
    "ad_cross = pd.crosstab(ad_df['広告'], ad_df['購入'])\n",
    "ad_cross"
   ]
  },
  {
   "cell_type": "code",
   "execution_count": null,
   "metadata": {},
   "outputs": [],
   "source": [
    "ad_cross['した'] / (ad_cross['した'] + ad_cross['しなかった'])"
   ]
  },
  {
   "cell_type": "code",
   "execution_count": null,
   "metadata": {},
   "outputs": [],
   "source": [
    "n_yes, n_not = ad_cross.sum()\n",
    "n_yes, n_not"
   ]
  },
  {
   "cell_type": "code",
   "execution_count": null,
   "metadata": {},
   "outputs": [],
   "source": [
    "n_adA, n_adB = ad_cross.sum(axis=1)\n",
    "n_adA, n_adB"
   ]
  },
  {
   "cell_type": "code",
   "execution_count": null,
   "metadata": {},
   "outputs": [],
   "source": [
    "ad_ef = pd.DataFrame({'した': [n_adA * n_yes / n,\n",
    "                                              n_adB * n_yes / n],\n",
    "                                    'しなかった': [n_adA * n_not / n,\n",
    "                                                       n_adB * n_not / n]},\n",
    "                                    index=['A', 'B'])\n",
    "ad_ef"
   ]
  },
  {
   "cell_type": "code",
   "execution_count": null,
   "metadata": {},
   "outputs": [],
   "source": [
    "y = ((ad_cross - ad_ef)**2 / ad_ef).sum().sum()\n",
    "y"
   ]
  },
  {
   "cell_type": "code",
   "execution_count": null,
   "metadata": {},
   "outputs": [],
   "source": [
    "(49 - 40)**2 / 40 + (51 - 60)**2 / 60 + (351 - 360)**2 / 360 + (549 - 540)**2 / 540"
   ]
  },
  {
   "cell_type": "code",
   "execution_count": null,
   "metadata": {},
   "outputs": [],
   "source": [
    "rv = stats.chi2(1)\n",
    "1 - rv.cdf(y)"
   ]
  },
  {
   "cell_type": "code",
   "execution_count": null,
   "metadata": {},
   "outputs": [],
   "source": [
    "chi2, p, dof, ef = stats.chi2_contingency(ad_cross, correction=False)\n",
    "chi2, p, dof"
   ]
  },
  {
   "cell_type": "code",
   "execution_count": null,
   "metadata": {},
   "outputs": [],
   "source": [
    "ef"
   ]
  },
  {
   "cell_type": "code",
   "execution_count": null,
   "metadata": {},
   "outputs": [],
   "source": []
  }
 ],
 "metadata": {
  "kernelspec": {
   "display_name": "Python 3 (ipykernel)",
   "language": "python",
   "name": "python3"
  },
  "language_info": {
   "codemirror_mode": {
    "name": "ipython",
    "version": 3
   },
   "file_extension": ".py",
   "mimetype": "text/x-python",
   "name": "python",
   "nbconvert_exporter": "python",
   "pygments_lexer": "ipython3",
   "version": "3.11.2"
  }
 },
 "nbformat": 4,
 "nbformat_minor": 2
}
