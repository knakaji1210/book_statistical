{
 "cells": [
  {
   "cell_type": "code",
   "execution_count": null,
   "id": "b57b6759",
   "metadata": {},
   "outputs": [],
   "source": [
    "# matplotlib 日本語フォントの利用\n",
    "\n",
    "#4-05-1\n",
    "# フォントを格納するフォルダを調べる\n",
    "\n",
    "import matplotlib\n",
    "matplotlib.matplotlib_fname()"
   ]
  },
  {
   "cell_type": "code",
   "execution_count": null,
   "id": "a95cef93",
   "metadata": {},
   "outputs": [],
   "source": [
    "#4-05-2\n",
    "# matplotlibのキャッシュファイルへのパスを表示する\n",
    "matplotlib.get_configdir()"
   ]
  },
  {
   "cell_type": "code",
   "execution_count": null,
   "id": "adc3d1cf",
   "metadata": {},
   "outputs": [],
   "source": [
    "#4-05-3\n",
    "#使用されるフォントを調べる\n",
    "import matplotlib\n",
    "matplotlib.rcParams['font.family']"
   ]
  },
  {
   "cell_type": "code",
   "execution_count": null,
   "id": "7dfab0bc",
   "metadata": {},
   "outputs": [],
   "source": [
    "#4-05-4\n",
    "%matplotlib inline\n",
    "import matplotlib.pyplot as plt\n",
    "\n",
    "plt.figure()\n",
    "plt.title('日本語の表示')\n",
    "plt.xlabel('x軸ラベル')\n",
    "plt.ylabel('y軸ラベル')\n",
    "\n",
    "plt.show()"
   ]
  },
  {
   "cell_type": "code",
   "execution_count": null,
   "id": "415ef619",
   "metadata": {},
   "outputs": [],
   "source": []
  }
 ],
 "metadata": {
  "kernelspec": {
   "display_name": "Python 3 (ipykernel)",
   "language": "python",
   "name": "python3"
  },
  "language_info": {
   "codemirror_mode": {
    "name": "ipython",
    "version": 3
   },
   "file_extension": ".py",
   "mimetype": "text/x-python",
   "name": "python",
   "nbconvert_exporter": "python",
   "pygments_lexer": "ipython3",
   "version": "3.11.2"
  }
 },
 "nbformat": 4,
 "nbformat_minor": 5
}
