{
 "cells": [
  {
   "cell_type": "code",
   "execution_count": null,
   "metadata": {},
   "outputs": [],
   "source": [
    "import numpy as np\n",
    "import matplotlib.pyplot as plt\n",
    "from scipy import stats"
   ]
  },
  {
   "cell_type": "code",
   "execution_count": null,
   "metadata": {},
   "outputs": [],
   "source": [
    "xs = stats.norm.rvs(scale=2,size=1000)\n",
    "x = np.linspace(-10,10,100)\n",
    "p = stats.norm.pdf(x,scale=2)\n",
    "v = np.var(xs)\n",
    "m = np.mean(xs)\n",
    "fig = plt.figure()\n",
    "ax = fig.add_subplot(111)\n",
    "ax.hist(xs, bins=100, alpha=0.5, normed=True)  # \"normed=True\"が問題のよう\n",
    "ax.plot(x,p, 'r-', lw=2)\n",
    "ax.set_xlabel('x')\n",
    "ax.set_ylabel('p(x)')\n",
    "ax.set_title('hist mean=%.2f, var=%.2f' % (m,v))"
   ]
  },
  {
   "cell_type": "code",
   "execution_count": null,
   "metadata": {},
   "outputs": [],
   "source": [
    "xs = stats.norm.rvs(scale=2,size=1000)\n",
    "x = np.linspace(-10,10,100)\n",
    "p = stats.norm.pdf(x,scale=2)\n",
    "v = np.var(xs)\n",
    "m = np.mean(xs)\n",
    "fig = plt.figure()\n",
    "ax = fig.add_subplot(111)\n",
    "# https://matplotlib.org/stable/api/_as_gen/matplotlib.axes.Axes.hist.html#matplotlib.axes.Axes.hist\n",
    "# これを参考に\"normed\"から\"density\"に変更\n",
    "ax.hist(xs, bins=100, alpha=0.5, density=True)\n",
    "ax.plot(x,p, 'r-', lw=2)\n",
    "ax.set_xlabel('x')\n",
    "ax.set_ylabel('p(x)')\n",
    "ax.set_title('hist mean=%.2f, var=%.2f' % (m,v))"
   ]
  },
  {
   "cell_type": "code",
   "execution_count": null,
   "metadata": {},
   "outputs": [],
   "source": []
  }
 ],
 "metadata": {
  "kernelspec": {
   "display_name": "Python 3 (ipykernel)",
   "language": "python",
   "name": "python3"
  },
  "language_info": {
   "codemirror_mode": {
    "name": "ipython",
    "version": 3
   },
   "file_extension": ".py",
   "mimetype": "text/x-python",
   "name": "python",
   "nbconvert_exporter": "python",
   "pygments_lexer": "ipython3",
   "version": "3.11.2"
  }
 },
 "nbformat": 4,
 "nbformat_minor": 2
}
